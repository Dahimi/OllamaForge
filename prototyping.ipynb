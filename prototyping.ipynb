{
 "cells": [
  {
   "cell_type": "code",
   "execution_count": 1,
   "metadata": {},
   "outputs": [
    {
     "name": "stdout",
     "output_type": "stream",
     "text": [
      "Collecting ollama\n",
      "  Downloading ollama-0.5.1-py3-none-any.whl.metadata (4.3 kB)\n",
      "Requirement already satisfied: httpx>=0.27 in /Users/soufianedahimi/.pyenv/versions/3.11.12/lib/python3.11/site-packages (from ollama) (0.28.1)\n",
      "Requirement already satisfied: pydantic>=2.9 in /Users/soufianedahimi/.pyenv/versions/3.11.12/lib/python3.11/site-packages (from ollama) (2.11.5)\n",
      "Requirement already satisfied: anyio in /Users/soufianedahimi/.pyenv/versions/3.11.12/lib/python3.11/site-packages (from httpx>=0.27->ollama) (4.9.0)\n",
      "Requirement already satisfied: certifi in /Users/soufianedahimi/.pyenv/versions/3.11.12/lib/python3.11/site-packages (from httpx>=0.27->ollama) (2025.4.26)\n",
      "Requirement already satisfied: httpcore==1.* in /Users/soufianedahimi/.pyenv/versions/3.11.12/lib/python3.11/site-packages (from httpx>=0.27->ollama) (1.0.9)\n",
      "Requirement already satisfied: idna in /Users/soufianedahimi/.pyenv/versions/3.11.12/lib/python3.11/site-packages (from httpx>=0.27->ollama) (3.10)\n",
      "Requirement already satisfied: h11>=0.16 in /Users/soufianedahimi/.pyenv/versions/3.11.12/lib/python3.11/site-packages (from httpcore==1.*->httpx>=0.27->ollama) (0.16.0)\n",
      "Requirement already satisfied: annotated-types>=0.6.0 in /Users/soufianedahimi/.pyenv/versions/3.11.12/lib/python3.11/site-packages (from pydantic>=2.9->ollama) (0.7.0)\n",
      "Requirement already satisfied: pydantic-core==2.33.2 in /Users/soufianedahimi/.pyenv/versions/3.11.12/lib/python3.11/site-packages (from pydantic>=2.9->ollama) (2.33.2)\n",
      "Requirement already satisfied: typing-extensions>=4.12.2 in /Users/soufianedahimi/.pyenv/versions/3.11.12/lib/python3.11/site-packages (from pydantic>=2.9->ollama) (4.13.2)\n",
      "Requirement already satisfied: typing-inspection>=0.4.0 in /Users/soufianedahimi/.pyenv/versions/3.11.12/lib/python3.11/site-packages (from pydantic>=2.9->ollama) (0.4.1)\n",
      "Requirement already satisfied: sniffio>=1.1 in /Users/soufianedahimi/.pyenv/versions/3.11.12/lib/python3.11/site-packages (from anyio->httpx>=0.27->ollama) (1.3.1)\n",
      "Downloading ollama-0.5.1-py3-none-any.whl (13 kB)\n",
      "Installing collected packages: ollama\n",
      "Successfully installed ollama-0.5.1\n",
      "\n",
      "\u001b[1m[\u001b[0m\u001b[34;49mnotice\u001b[0m\u001b[1;39;49m]\u001b[0m\u001b[39;49m A new release of pip is available: \u001b[0m\u001b[31;49m24.0\u001b[0m\u001b[39;49m -> \u001b[0m\u001b[32;49m25.1.1\u001b[0m\n",
      "\u001b[1m[\u001b[0m\u001b[34;49mnotice\u001b[0m\u001b[1;39;49m]\u001b[0m\u001b[39;49m To update, run: \u001b[0m\u001b[32;49mpip install --upgrade pip\u001b[0m\n",
      "Note: you may need to restart the kernel to use updated packages.\n"
     ]
    }
   ],
   "source": [
    "pip install ollama"
   ]
  },
  {
   "cell_type": "code",
   "execution_count": 3,
   "metadata": {},
   "outputs": [],
   "source": [
    "import ollama"
   ]
  },
  {
   "cell_type": "code",
   "execution_count": 11,
   "metadata": {},
   "outputs": [
    {
     "name": "stdout",
     "output_type": "stream",
     "text": [
      "Hi there! 😊 \n",
      "\n",
      "How can I help you today?  \n",
      "\n",
      "I can do a lot of things, like:\n",
      "\n",
      "* **Answer your questions:**  Just ask me anything!\n",
      "* **Generate creative content:**  Stories, poems, code, scripts, musical pieces, email, letters, etc.\n",
      "* **Summarize information:**  Give me a long article or text, and I'll give you a concise summary.\n",
      "* **Translate languages:**  I can translate between many different languages.\n",
      "* **Brainstorm ideas:**  Need help coming up with ideas for a project? I can help!\n",
      "* **Just chat!**  If you're bored, I'm happy to have a conversation.\n",
      "\n",
      "\n",
      "\n",
      "Let me know what's on your mind! ✨\n",
      "\n",
      "\n",
      "\n",
      "\n",
      "Hi there! 😊 \n",
      "\n",
      "How can I help you today?  \n",
      "\n",
      "I can do a lot of things, like:\n",
      "\n",
      "* **Answer your questions:**  Just ask me anything!\n",
      "* **Generate creative content:**  Stories, poems, code, scripts, musical pieces, email, letters, etc.\n",
      "* **Summarize information:**  Give me a long article or text, and I'll give you a concise summary.\n",
      "* **Translate languages:**  I can translate between many different languages.\n",
      "* **Brainstorm ideas:**  Need help coming up with ideas for a project? I can help!\n",
      "* **Just chat!**  If you're bored, I'm happy to have a conversation.\n",
      "\n",
      "\n",
      "\n",
      "Let me know what's on your mind! ✨\n",
      "\n",
      "\n",
      "\n",
      "\n"
     ]
    }
   ],
   "source": [
    "from ollama import chat\n",
    "from ollama import ChatResponse\n",
    "\n",
    "response: ChatResponse = chat(model='gemma3n:e4b', messages=[\n",
    "  {\n",
    "    'role': 'user',\n",
    "    'content': 'Hi',\n",
    "  },\n",
    "])\n",
    "print(response['message']['content'])\n",
    "# or access fields directly from the response object\n",
    "print(response.message.content)"
   ]
  },
  {
   "cell_type": "code",
   "execution_count": 12,
   "metadata": {},
   "outputs": [
    {
     "data": {
      "text/plain": [
       "ChatResponse(model='gemma3n:e4b', created_at='2025-07-29T12:50:25.327213Z', done=True, done_reason='stop', total_duration=6519527208, load_duration=78200958, prompt_eval_count=10, prompt_eval_duration=1077421709, eval_count=163, eval_duration=5363246500, message=Message(role='assistant', content=\"Hi there! 😊 \\n\\nHow can I help you today?  \\n\\nI can do a lot of things, like:\\n\\n* **Answer your questions:**  Just ask me anything!\\n* **Generate creative content:**  Stories, poems, code, scripts, musical pieces, email, letters, etc.\\n* **Summarize information:**  Give me a long article or text, and I'll give you a concise summary.\\n* **Translate languages:**  I can translate between many different languages.\\n* **Brainstorm ideas:**  Need help coming up with ideas for a project? I can help!\\n* **Just chat!**  If you're bored, I'm happy to have a conversation.\\n\\n\\n\\nLet me know what's on your mind! ✨\\n\\n\\n\\n\", thinking=None, images=None, tool_calls=None))"
      ]
     },
     "execution_count": 12,
     "metadata": {},
     "output_type": "execute_result"
    }
   ],
   "source": [
    "response"
   ]
  },
  {
   "cell_type": "code",
   "execution_count": null,
   "metadata": {},
   "outputs": [
    {
     "name": "stdout",
     "output_type": "stream",
     "text": [
      "Note: you may need to restart the kernel to use updated packages.\n"
     ]
    },
    {
     "name": "stderr",
     "output_type": "stream",
     "text": [
      "\n",
      "[notice] A new release of pip is available: 24.0 -> 24.3.1\n",
      "[notice] To update, run: python.exe -m pip install --upgrade pip\n"
     ]
    }
   ],
   "source": [
    "%pip install -qU langchain-together"
   ]
  },
  {
   "cell_type": "code",
   "execution_count": null,
   "metadata": {},
   "outputs": [],
   "source": []
  }
 ],
 "metadata": {
  "kernelspec": {
   "display_name": "Python 3",
   "language": "python",
   "name": "python3"
  },
  "language_info": {
   "codemirror_mode": {
    "name": "ipython",
    "version": 3
   },
   "file_extension": ".py",
   "mimetype": "text/x-python",
   "name": "python",
   "nbconvert_exporter": "python",
   "pygments_lexer": "ipython3",
   "version": "3.11.12"
  }
 },
 "nbformat": 4,
 "nbformat_minor": 2
}
